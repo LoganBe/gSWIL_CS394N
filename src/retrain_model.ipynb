{
 "cells": [
  {
   "cell_type": "code",
   "execution_count": 1,
   "id": "4f58bb2d-dc5d-4713-8619-3f47dcf017e5",
   "metadata": {},
   "outputs": [
    {
     "name": "stderr",
     "output_type": "stream",
     "text": [
      "/opt/conda/lib/python3.10/site-packages/tqdm/auto.py:22: TqdmWarning: IProgress not found. Please update jupyter and ipywidgets. See https://ipywidgets.readthedocs.io/en/stable/user_install.html\n",
      "  from .autonotebook import tqdm as notebook_tqdm\n"
     ]
    }
   ],
   "source": [
    "import torch\n",
    "import matplotlib.pyplot as plt\n",
    "import numpy as np\n",
    "\n",
    "from torch.utils.data import DataLoader\n",
    "\n",
    "from torchvision import transforms\n",
    "from torchvision.datasets import CIFAR10, FashionMNIST\n",
    "\n",
    "from tqdm.autonotebook import tqdm, trange\n",
    "\n",
    "from utils.nets import *\n",
    "from utils.model_tools import *\n",
    "from utils.dataset_tools import split_training_data\n",
    "from utils.feature_extractor import *\n",
    "from utils.cosine_similarity import *"
   ]
  },
  {
   "cell_type": "code",
   "execution_count": 2,
   "id": "906696b9-a616-41ee-a61e-0c7384c109da",
   "metadata": {},
   "outputs": [
    {
     "name": "stdout",
     "output_type": "stream",
     "text": [
      "Using cpu device\n"
     ]
    }
   ],
   "source": [
    "# Get cpu or gpu device for training.\n",
    "device = \"cuda\" if torch.cuda.is_available() else \"cpu\"\n",
    "print(f\"Using {device} device\")"
   ]
  },
  {
   "cell_type": "code",
   "execution_count": 3,
   "id": "5186ff7d-126d-4f2d-93e8-7f57b5375305",
   "metadata": {},
   "outputs": [],
   "source": [
    "model_dir = './weights/'\n",
    "log_dir = './logs'\n",
    "\n",
    "model_selection = 'linear' # linear | cnn | vgg\n",
    "dataset_selection = 'fashionmnist' # cifar10 | fashionmnist\n",
    "\n",
    "holdout_classes = [8, 9]\n",
    "new_class = 9\n",
    "\n",
    "ckpt_file = './weights/linear_fashionmnist_holdout_[8, 9].pt'\n",
    "batch_size = 32\n",
    "num_classes = 9"
   ]
  },
  {
   "cell_type": "markdown",
   "id": "d58ac2e4-6c4e-4ed6-9259-e6e4cec8231d",
   "metadata": {},
   "source": [
    "#### Hyperparameters"
   ]
  },
  {
   "cell_type": "code",
   "execution_count": 4,
   "id": "9edbc22b-260d-4063-a831-2ef8dbe0aded",
   "metadata": {},
   "outputs": [],
   "source": [
    "num_epochs = 15\n",
    "\n",
    "initial_learning_rate = 0.001\n",
    "final_learning_rate = 0.0001\n",
    "\n",
    "# initial_lr * decay_rate^num_epochs = final_lr\n",
    "decay_rate = (final_learning_rate/initial_learning_rate)**(1/num_epochs)\n",
    "\n",
    "loss_fn = torch.nn.CrossEntropyLoss()\n",
    "#optimizer = torch.optim.Adam(model.parameters(), lr=initial_learning_rate)\n",
    "#lr_scheduler = torch.optim.lr_scheduler.ExponentialLR(optimizer=optimizer, gamma=decay_rate)"
   ]
  },
  {
   "cell_type": "markdown",
   "id": "c3b7102a-5149-4ae9-9785-c3ac60aeb8f7",
   "metadata": {
    "tags": []
   },
   "source": [
    "# Data Preparation"
   ]
  },
  {
   "cell_type": "code",
   "execution_count": 5,
   "id": "ec55e773-5c48-42c4-a5ac-f27d123aa3ba",
   "metadata": {},
   "outputs": [],
   "source": [
    "if dataset_selection == 'fashionmnist':\n",
    "    transform = transforms.Compose([\n",
    "        transforms.ToTensor(),\n",
    "        transforms.Normalize((0.5), (0.5)),]) # Images are grayscale -> 1 channel\n",
    "else:\n",
    "    transform = transforms.Compose([\n",
    "        transforms.ToTensor(),\n",
    "        transforms.Normalize((0.5, 0.5, 0.5), (0.5, 0.5, 0.5))])"
   ]
  },
  {
   "cell_type": "code",
   "execution_count": 6,
   "id": "542addba-1c68-4864-ad0a-925f2d4c1bf3",
   "metadata": {},
   "outputs": [],
   "source": [
    "if dataset_selection == 'cifar10':\n",
    "    train_data = CIFAR10(root='./data', train=True, download=True, transform=transform)\n",
    "    test_data = CIFAR10(root='./data', train=False, download=True, transform=transform)\n",
    "elif dataset_selection == 'fashionmnist':\n",
    "    train_data = FashionMNIST(root='./data', train=True, download=True, transform=transform)\n",
    "    test_data = FashionMNIST(root='./data', train=False, download=True, transform=transform)"
   ]
  },
  {
   "cell_type": "code",
   "execution_count": 7,
   "id": "c6ef117b-f6d5-4ab1-85a4-7f9b7071fff0",
   "metadata": {},
   "outputs": [],
   "source": [
    "total_classes = len(torch.unique(train_data.targets))"
   ]
  },
  {
   "cell_type": "markdown",
   "id": "d17ef9aa-020c-4590-8041-11e99be77fc5",
   "metadata": {
    "tags": []
   },
   "source": [
    "## FOL"
   ]
  },
  {
   "cell_type": "code",
   "execution_count": 8,
   "id": "6b6b8f11-e3c8-4d81-af9c-5ca74f31c5aa",
   "metadata": {},
   "outputs": [
    {
     "name": "stdout",
     "output_type": "stream",
     "text": [
      "input_size 784\n",
      "num_outputs 9\n"
     ]
    }
   ],
   "source": [
    "if model_selection == 'linear':\n",
    "    fol_model = add_output_nodes(ckpt_file, arch='linear')\n",
    "    fol_model.input_layer.requires_grad_(False)\n",
    "elif model_selection == 'cnn-demo':\n",
    "    fol_model = add_output_nodes(ckpt_file, arch='cnn-demo')\n",
    "    fol_model.conv1.requires_grad_(False)\n",
    "    fol_model.conv2.requires_grad_(False)\n",
    "    fol_model.fc1.requires_grad_(False)\n",
    "    \n",
    "fol_model = fol_model.to(device)"
   ]
  },
  {
   "cell_type": "code",
   "execution_count": 9,
   "id": "be09c870-bc2d-4b93-b6b3-6dc42ecb1598",
   "metadata": {},
   "outputs": [],
   "source": [
    "fol_optimizer = torch.optim.Adam(fol_model.parameters(), lr=initial_learning_rate)\n",
    "fol_lr_scheduler = torch.optim.lr_scheduler.ExponentialLR(optimizer=fol_optimizer, gamma=decay_rate)"
   ]
  },
  {
   "cell_type": "code",
   "execution_count": 13,
   "id": "6419b495-0901-4e7f-8de9-00d0df864ed3",
   "metadata": {},
   "outputs": [],
   "source": [
    "# just train on the new class\n",
    "included_data, excluded_data = split_training_data(train_data, [new_class]) \n",
    "train_fol_loader = DataLoader(excluded_data, batch_size=batch_size, shuffle=True, num_workers=2)\n",
    "\n",
    "# but test on the full 9 classes (old classes + new one, still excluding one)\n",
    "included_data, excluded_data = split_training_data(test_data, [8])\n",
    "test_fol_loader = DataLoader(included_data, batch_size=batch_size, shuffle=True, num_workers=2)"
   ]
  },
  {
   "cell_type": "code",
   "execution_count": 14,
   "id": "4edc00f9-db30-49ad-836a-6aad51c4a317",
   "metadata": {},
   "outputs": [],
   "source": [
    "model_file_fol = weight_dir + model_selection + '_' + dataset_selection + '_' + 'holdout' + '_' + '[8]' + 'fol' + '.pt'\n",
    "recall_file_fol = weight_dir + model_selection + '_' + dataset_selection + '_' + 'holdout' + '_' + '[8]' + 'fol' + '_recall.npy'\n",
    "train_losses_file_fol = weight_dir + model_selection + '_' + dataset_selection + '_' + 'holdout' + '_' + '[8]' + 'fol' + '_train_loss.txt'\n",
    "test_losses_file_fol = weight_dir + model_selection + '_' + dataset_selection + '_' + 'holdout' + '_' + '[8]' + 'fol' + '_test_loss.txt'"
   ]
  },
  {
   "cell_type": "markdown",
   "id": "4f2f33e4-480c-44f0-aea7-0655441cefaa",
   "metadata": {},
   "source": [
    "### Training Loop"
   ]
  },
  {
   "cell_type": "code",
   "execution_count": 10,
   "id": "0c4dd414-861b-4d1b-bbf9-b012dae09887",
   "metadata": {},
   "outputs": [
    {
     "name": "stdout",
     "output_type": "stream",
     "text": [
      "Epoch 1\n",
      "-------------------------------\n"
     ]
    },
    {
     "ename": "NameError",
     "evalue": "name 'train_fol_loader' is not defined",
     "output_type": "error",
     "traceback": [
      "\u001b[0;31m---------------------------------------------------------------------------\u001b[0m",
      "\u001b[0;31mNameError\u001b[0m                                 Traceback (most recent call last)",
      "Cell \u001b[0;32mIn [10], line 10\u001b[0m\n\u001b[1;32m      8\u001b[0m \u001b[38;5;28;01mfor\u001b[39;00m epoch \u001b[38;5;129;01min\u001b[39;00m t:\n\u001b[1;32m      9\u001b[0m     \u001b[38;5;28mprint\u001b[39m(\u001b[38;5;124mf\u001b[39m\u001b[38;5;124m\"\u001b[39m\u001b[38;5;124mEpoch \u001b[39m\u001b[38;5;132;01m{\u001b[39;00mepoch\u001b[38;5;241m+\u001b[39m\u001b[38;5;241m1\u001b[39m\u001b[38;5;132;01m}\u001b[39;00m\u001b[38;5;130;01m\\n\u001b[39;00m\u001b[38;5;124m-------------------------------\u001b[39m\u001b[38;5;124m\"\u001b[39m)\n\u001b[0;32m---> 10\u001b[0m     train_loss \u001b[38;5;241m=\u001b[39m train(\u001b[43mtrain_fol_loader\u001b[49m, fol_model, loss_fn, fol_optimizer, device)\n\u001b[1;32m     11\u001b[0m     test_loss, y_pred, y_actual \u001b[38;5;241m=\u001b[39m test(test_fol_loader, fol_model, loss_fn, device, swap\u001b[38;5;241m=\u001b[39m\u001b[38;5;28;01mTrue\u001b[39;00m, swap_labels\u001b[38;5;241m=\u001b[39m[\u001b[38;5;241m9\u001b[39m,\u001b[38;5;241m8\u001b[39m])\n\u001b[1;32m     12\u001b[0m     \u001b[38;5;28mprint\u001b[39m(\u001b[38;5;124m'\u001b[39m\u001b[38;5;124my_pred:\u001b[39m\u001b[38;5;124m'\u001b[39m, y_pred[:\u001b[38;5;241m2\u001b[39m])\n",
      "\u001b[0;31mNameError\u001b[0m: name 'train_fol_loader' is not defined"
     ]
    }
   ],
   "source": [
    "train_losses = []\n",
    "test_losses = []\n",
    "#t = trange(num_epochs)\n",
    "t = range(num_epochs)\n",
    "y_preds = []\n",
    "y_actuals = []\n",
    "\n",
    "for epoch in t:\n",
    "    print(f\"Epoch {epoch+1}\\n-------------------------------\")\n",
    "    train_loss = train(train_fol_loader, fol_model, loss_fn, fol_optimizer, device)\n",
    "    test_loss, y_pred, y_actual = test(test_fol_loader, fol_model, loss_fn, device, swap=True, swap_labels=[9,8])\n",
    "    print('y_pred:', y_pred[:2])\n",
    "    print('y_actual:', y_actual[:2])\n",
    "    train_losses.append(train_loss)\n",
    "    test_losses.append(test_loss)\n",
    "    y_preds.append(y_pred)\n",
    "    y_actuals.append(y_actual)\n",
    "    \n",
    "    fol_lr_scheduler.step()\n",
    "    \n",
    "torch.save(fol_model.state_dict(), model_file_fol)\n",
    "\n",
    "\n",
    "recalls = get_recall_per_epoch(y_actuals, y_preds, num_classes)\n",
    "np.save(recall_file_fol, recalls)\n",
    "\n",
    "with open(train_losses_file_fol, 'w') as fp:\n",
    "    for s in train_losses:\n",
    "        fp.write(\"%s\\n\" % s)\n",
    "        \n",
    "with open(test_losses_file_fol, 'w') as fp:\n",
    "    for x in test_losses:\n",
    "        fp.write(\"%s\\n\" % x)\n",
    "\n",
    "print(\"Done!\")\n",
    "\n",
    "# Ok I'm struggling with getting data loading correct for FOL but I'm not sure we even need it"
   ]
  },
  {
   "cell_type": "markdown",
   "id": "33948a56-6ae4-449b-a87b-8163a91a2a07",
   "metadata": {
    "jp-MarkdownHeadingCollapsed": true,
    "tags": []
   },
   "source": [
    "## SWIL"
   ]
  },
  {
   "cell_type": "code",
   "execution_count": 8,
   "id": "b6b141d0-6e4c-410d-8ca0-1c46a856748f",
   "metadata": {},
   "outputs": [
    {
     "name": "stdout",
     "output_type": "stream",
     "text": [
      "input_size 784\n",
      "num_outputs 9\n"
     ]
    }
   ],
   "source": [
    "if model_selection == 'linear':\n",
    "    swil_model = add_output_nodes(ckpt_file, arch='linear')\n",
    "    swil_model.input_layer.requires_grad_(False)\n",
    "elif model_selection == 'cnn-demo':\n",
    "    swil_model = add_output_nodes(ckpt_file, arch='cnn-demo')\n",
    "    swil_model.conv1.requires_grad_(False)\n",
    "    swil_model.conv2.requires_grad_(False)\n",
    "    swil_model.fc1.requires_grad_(False)\n",
    "    \n",
    "swil_model = swil_model.to(device)"
   ]
  },
  {
   "cell_type": "code",
   "execution_count": 11,
   "id": "e20e68f9-bec2-4f36-86d0-6c9847eab824",
   "metadata": {},
   "outputs": [],
   "source": [
    "swil_optimizer = torch.optim.Adam(swil_model.parameters(), lr=initial_learning_rate)\n",
    "lr_scheduler = torch.optim.lr_scheduler.ExponentialLR(optimizer=swil_optimizer, gamma=decay_rate)"
   ]
  },
  {
   "cell_type": "code",
   "execution_count": 12,
   "id": "87d78d41-7d1b-4962-a141-7ee867d5a74a",
   "metadata": {},
   "outputs": [],
   "source": [
    "fmnist_classes = list(range(8)) + [9]\n",
    "\n",
    "# might not need these\n",
    "FMNIST_trainloader_gen = torch.utils.data.DataLoader(train_data, batch_size=batch_size,\n",
    "                                          shuffle=True, num_workers=2)\n",
    "FMNIST_testloader_gen = torch.utils.data.DataLoader(test_data, batch_size=batch_size,\n",
    "                                          shuffle=True, num_workers=2)\n",
    "\n",
    "class_subsets, class_idxs, subset_size = generate_dls(train_data, fmnist_classes)"
   ]
  },
  {
   "cell_type": "code",
   "execution_count": 14,
   "id": "5507ca83-4c8d-4875-89b5-5b1d0ffa0a93",
   "metadata": {},
   "outputs": [],
   "source": [
    "with open(r'./data/fmnist_sim_scores_boot.txt', 'r') as fp:\n",
    "    sim_scores = [float(i) for i in fp.readlines()]\n",
    "\n",
    "sim_sum = sum(sim_scores)\n",
    "\n",
    "sim_norms = [x/sim_sum for x in sim_scores]\n",
    "\n",
    "boots_sample_size = 75\n",
    "sim_sample_sizes = [27 if x < 0.2 else int(x * boots_sample_size*3.52) for x in sim_norms] + [75]"
   ]
  },
  {
   "cell_type": "code",
   "execution_count": 15,
   "id": "88028953-a3eb-4d26-bb07-6f953dd03fb0",
   "metadata": {},
   "outputs": [],
   "source": [
    "from random import sample\n",
    "\n",
    "sampled_idxs = []\n",
    "\n",
    "for i in range(len(fmnist_classes)):\n",
    "    idx_sample = sample(class_idxs[i].tolist(), sim_sample_sizes[i])\n",
    "    sampled_idxs += idx_sample\n",
    "\n",
    "swil_train_subset = torch.utils.data.Subset(train_data, sampled_idxs)\n",
    "\n",
    "swil_train_dl = torch.utils.data.DataLoader(swil_train_subset, batch_size=1, shuffle=True, num_workers=2)\n",
    "\n",
    "included_data, excluded_data = split_training_data(test_data, [8])\n",
    "test_swil_loader = DataLoader(included_data, batch_size=batch_size, shuffle=True, num_workers=2)"
   ]
  },
  {
   "cell_type": "markdown",
   "id": "be5ca4a3-bf15-40f5-bd83-59ddf0c2e31e",
   "metadata": {},
   "source": [
    "### Training Loop"
   ]
  },
  {
   "cell_type": "code",
   "execution_count": 16,
   "id": "e0223e81-5399-485e-8010-01765d8c9d31",
   "metadata": {},
   "outputs": [
    {
     "name": "stdout",
     "output_type": "stream",
     "text": [
      "Epoch 1\n",
      "-------------------------------\n",
      "loss: 0.602320  [    0/  349]\n",
      "Test Error: \n",
      " Accuracy: 72.3%, Avg loss: 1.310042 \n",
      "\n",
      "Epoch 2\n",
      "-------------------------------\n",
      "loss: 0.232019  [    0/  349]\n",
      "Test Error: \n",
      " Accuracy: 76.4%, Avg loss: 0.925488 \n",
      "\n",
      "Epoch 3\n",
      "-------------------------------\n",
      "loss: 0.003179  [    0/  349]\n",
      "Test Error: \n",
      " Accuracy: 76.6%, Avg loss: 0.847425 \n",
      "\n",
      "Epoch 4\n",
      "-------------------------------\n",
      "loss: 0.000000  [    0/  349]\n",
      "Test Error: \n",
      " Accuracy: 76.5%, Avg loss: 0.804749 \n",
      "\n",
      "Epoch 5\n",
      "-------------------------------\n",
      "loss: 0.113733  [    0/  349]\n",
      "Test Error: \n",
      " Accuracy: 78.7%, Avg loss: 0.752019 \n",
      "\n",
      "Epoch 6\n",
      "-------------------------------\n",
      "loss: 0.676546  [    0/  349]\n",
      "Test Error: \n",
      " Accuracy: 78.1%, Avg loss: 0.730093 \n",
      "\n",
      "Epoch 7\n",
      "-------------------------------\n",
      "loss: 0.946021  [    0/  349]\n",
      "Test Error: \n",
      " Accuracy: 78.1%, Avg loss: 0.716133 \n",
      "\n",
      "Epoch 8\n",
      "-------------------------------\n",
      "loss: 0.215354  [    0/  349]\n",
      "Test Error: \n",
      " Accuracy: 78.9%, Avg loss: 0.699688 \n",
      "\n",
      "Epoch 9\n",
      "-------------------------------\n",
      "loss: 0.000033  [    0/  349]\n",
      "Test Error: \n",
      " Accuracy: 78.2%, Avg loss: 0.697931 \n",
      "\n",
      "Epoch 10\n",
      "-------------------------------\n",
      "loss: 0.080388  [    0/  349]\n",
      "Test Error: \n",
      " Accuracy: 78.9%, Avg loss: 0.684197 \n",
      "\n",
      "Epoch 11\n",
      "-------------------------------\n",
      "loss: 0.001560  [    0/  349]\n",
      "Test Error: \n",
      " Accuracy: 79.0%, Avg loss: 0.677222 \n",
      "\n",
      "Epoch 12\n",
      "-------------------------------\n",
      "loss: 0.000012  [    0/  349]\n",
      "Test Error: \n",
      " Accuracy: 78.7%, Avg loss: 0.677893 \n",
      "\n",
      "Epoch 13\n",
      "-------------------------------\n",
      "loss: 1.395447  [    0/  349]\n",
      "Test Error: \n",
      " Accuracy: 78.8%, Avg loss: 0.673972 \n",
      "\n",
      "Epoch 14\n",
      "-------------------------------\n",
      "loss: 0.000004  [    0/  349]\n",
      "Test Error: \n",
      " Accuracy: 79.1%, Avg loss: 0.671239 \n",
      "\n",
      "Epoch 15\n",
      "-------------------------------\n",
      "loss: 0.326693  [    0/  349]\n",
      "Test Error: \n",
      " Accuracy: 78.9%, Avg loss: 0.669494 \n",
      "\n",
      "Done!\n"
     ]
    }
   ],
   "source": [
    "weight_dir = './weights/'\n",
    "model_file = weight_dir + model_selection + '_' + dataset_selection + '_' + 'holdout' + '_' + '[8]' + '_swil.pt'\n",
    "recall_file = weight_dir + model_selection + '_' + dataset_selection + '_' + 'holdout' + '_' + '[8]' + '_swil_recall.npy'\n",
    "train_losses_file = weight_dir + model_selection + '_' + dataset_selection + '_' + 'holdout' + '_' + '[8]' + '_swil_train_loss.txt'\n",
    "test_losses_file = weight_dir + model_selection + '_' + dataset_selection + '_' + 'holdout' + '_' + '[8]' + 'swil_test_loss.txt'\n",
    "train_losses = []\n",
    "test_losses = []\n",
    "#t = trange(num_epochs)\n",
    "t = range(num_epochs)\n",
    "y_preds = []\n",
    "y_actuals = []\n",
    "\n",
    "for epoch in t:\n",
    "    print(f\"Epoch {epoch+1}\\n-------------------------------\")\n",
    "    train_loss = train(swil_train_dl, swil_model, loss_fn, swil_optimizer, device, swap=True, swap_labels=[9,8])\n",
    "    test_loss, y_pred, y_actual = test(test_swil_loader, swil_model, loss_fn, device, swap=True, swap_labels=[9,8])\n",
    "    train_losses.append(train_loss)\n",
    "    test_losses.append(test_loss)\n",
    "    y_preds.append(y_pred)\n",
    "    y_actuals.append(y_actual)\n",
    "    \n",
    "    #t.set_description(f\"Epoch {epoch} train loss: {epoch_loss_train[-1]:.3f}\")\n",
    "    lr_scheduler.step()\n",
    "    \n",
    "torch.save(swil_model.state_dict(), model_file)\n",
    "\n",
    "recalls = get_recall_per_epoch(y_actuals, y_preds, 9)\n",
    "np.save(recall_file, recalls)\n",
    "\n",
    "with open(train_losses_file, 'w') as fp:\n",
    "    for s in train_losses:\n",
    "        fp.write(\"%s\\n\" % s)\n",
    "        \n",
    "with open(test_losses_file, 'w') as fp:\n",
    "    for x in test_losses:\n",
    "        fp.write(\"%s\\n\" % x)\n",
    "\n",
    "print(\"Done!\")"
   ]
  },
  {
   "cell_type": "code",
   "execution_count": 17,
   "id": "dbf568cc-ecc7-4183-9bd6-15eaee31a4f6",
   "metadata": {},
   "outputs": [
    {
     "name": "stdout",
     "output_type": "stream",
     "text": [
      "[[0.81199998 0.81       0.65100002 0.57200003 0.86000001 0.75599998\n",
      "  0.67500001 0.80500001 0.67500001 0.77899998 0.79900002 0.73699999\n",
      "  0.72899997 0.77700001 0.74000001]\n",
      " [0.95200002 0.94599998 0.949      0.95200002 0.94700003 0.949\n",
      "  0.94800001 0.94800001 0.949      0.94999999 0.949      0.94999999\n",
      "  0.94999999 0.94999999 0.95099998]\n",
      " [0.588      0.66299999 0.66799998 0.64899999 0.68699998 0.61000001\n",
      "  0.69400001 0.70499998 0.66299999 0.62699997 0.66900003 0.66399997\n",
      "  0.67000002 0.68000001 0.671     ]\n",
      " [0.84299999 0.84799999 0.85600001 0.85900003 0.85100001 0.87\n",
      "  0.85399997 0.81900001 0.84299999 0.85299999 0.84299999 0.85500002\n",
      "  0.85399997 0.84799999 0.84600002]\n",
      " [0.52700001 0.62800002 0.71200001 0.73100001 0.69099998 0.67799997\n",
      "  0.70099998 0.70300001 0.70300001 0.73199999 0.704      0.704\n",
      "  0.70499998 0.70099998 0.70200002]\n",
      " [0.63700002 0.72299999 0.76300001 0.764      0.73699999 0.78799999\n",
      "  0.815      0.81300002 0.82800001 0.82700002 0.82499999 0.82700002\n",
      "  0.83099997 0.82599998 0.82599998]\n",
      " [0.48899999 0.58600003 0.61900002 0.65799999 0.56800002 0.662\n",
      "  0.639      0.60600001 0.67000002 0.61900002 0.61299998 0.63800001\n",
      "  0.63800001 0.62       0.64099997]\n",
      " [0.87199998 0.87599999 0.847      0.85799998 0.86000001 0.85399997\n",
      "  0.84500003 0.83600003 0.85699999 0.85000002 0.84500003 0.84500003\n",
      "  0.85600001 0.85000002 0.85100001]\n",
      " [0.78600001 0.79699999 0.833      0.84399998 0.87800002 0.86299998\n",
      "  0.85399997 0.86699998 0.84799999 0.86000001 0.866      0.86299998\n",
      "  0.85900003 0.86699998 0.87      ]]\n"
     ]
    }
   ],
   "source": []
  },
  {
   "cell_type": "markdown",
   "id": "83e63096-ece6-4fbd-ae03-3eb17d45d9de",
   "metadata": {
    "jp-MarkdownHeadingCollapsed": true,
    "tags": []
   },
   "source": [
    "## G-SWIL"
   ]
  },
  {
   "cell_type": "code",
   "execution_count": 11,
   "id": "99a6967c-e73b-4e94-a312-39e04b7a82dd",
   "metadata": {},
   "outputs": [
    {
     "name": "stdout",
     "output_type": "stream",
     "text": [
      "input_size 784\n",
      "num_outputs 9\n"
     ]
    }
   ],
   "source": [
    "if model_selection == 'linear':\n",
    "    gswil_model = add_output_nodes(ckpt_file, arch='linear')\n",
    "    gswil_model.input_layer.requires_grad_(False)\n",
    "elif model_selection == 'cnn-demo':\n",
    "    gswil_model = add_output_nodes(ckpt_file, arch='cnn-demo')\n",
    "    gswil_model.conv1.requires_grad_(False)\n",
    "    gswil_model.conv2.requires_grad_(False)\n",
    "    gswil_model.fc1.requires_grad_(False)\n",
    "    \n",
    "gswil_model = gswil_model.to(device)"
   ]
  },
  {
   "cell_type": "code",
   "execution_count": null,
   "id": "c2c9ce9e-6f84-45ec-b13b-e6455a450a4f",
   "metadata": {},
   "outputs": [],
   "source": [
    "optimizer = torch.optim.Adam(gswil_model.parameters(), lr=initial_learning_rate)\n",
    "lr_scheduler = torch.optim.lr_scheduler.ExponentialLR(optimizer=optimizer, gamma=decay_rate)"
   ]
  },
  {
   "cell_type": "markdown",
   "id": "53aa4641-f7b3-4296-b94d-835323cc99f3",
   "metadata": {},
   "source": [
    "### Training Loop"
   ]
  },
  {
   "cell_type": "code",
   "execution_count": null,
   "id": "33ca83a9-a427-41c2-ae3a-5769101c1fb4",
   "metadata": {},
   "outputs": [],
   "source": [
    "train_losses = []\n",
    "test_losses = []\n",
    "#t = trange(num_epochs)\n",
    "t = range(num_epochs)\n",
    "\n",
    "for epoch in t:\n",
    "    print(f\"Epoch {epoch+1}\\n-------------------------------\")\n",
    "    train_loss = train(train_inc_loader, model, loss_fn, optimizer, device)\n",
    "    test_loss = test(test_inc_loader, model, loss_fn, device)\n",
    "    train_losses.append(train_loss)\n",
    "    test_losses.append(test_loss)\n",
    "    \n",
    "    #t.set_description(f\"Epoch {epoch} train loss: {epoch_loss_train[-1]:.3f}\")\n",
    "    lr_scheduler.step()\n",
    "    \n",
    "torch.save(model.state_dict(), model_file)\n",
    "print(\"Done!\")"
   ]
  }
 ],
 "metadata": {
  "kernelspec": {
   "display_name": "Python 3 (ipykernel)",
   "language": "python",
   "name": "python3"
  },
  "language_info": {
   "codemirror_mode": {
    "name": "ipython",
    "version": 3
   },
   "file_extension": ".py",
   "mimetype": "text/x-python",
   "name": "python",
   "nbconvert_exporter": "python",
   "pygments_lexer": "ipython3",
   "version": "3.10.8"
  }
 },
 "nbformat": 4,
 "nbformat_minor": 5
}
