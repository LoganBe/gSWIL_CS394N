{
 "cells": [
  {
   "cell_type": "code",
   "execution_count": null,
   "id": "f572b598-7331-42ba-9f54-8049620a8f61",
   "metadata": {},
   "outputs": [],
   "source": [
    "import csv\n",
    "import os\n",
    "import shutil"
   ]
  },
  {
   "cell_type": "markdown",
   "id": "308ad35e-74bc-44b9-bd76-777ddb594f41",
   "metadata": {
    "tags": []
   },
   "source": [
    "**CIFAR-10**  \n",
    "- torchvision: ['airplane', 'automobile', 'bird', 'cat', 'deer', 'dog', 'frog', 'horse', 'ship', 'truck']  \n",
    "- paper: ['bird', 'deer', 'dog', 'frog', 'horse', 'airplane','ship', 'truck', 'cat', 'automobile']  "
   ]
  },
  {
   "cell_type": "code",
   "execution_count": null,
   "id": "ca8bb62f-66ca-44b1-9c39-de2ad3be0140",
   "metadata": {},
   "outputs": [],
   "source": [
    "cifar10 = ['bird', 'deer', 'dog', 'frog', 'horse', 'airplane','ship', 'truck', 'cat', 'automobile']"
   ]
  },
  {
   "cell_type": "code",
   "execution_count": null,
   "id": "633e0d0b-0b69-4a39-a834-5303b5392399",
   "metadata": {},
   "outputs": [],
   "source": [
    "source_dir = './data/CIFAR10'\n",
    "output_dir = './datasets/g_cifar10'\n",
    "\n",
    "class_file = f'{output_dir}/classes.csv'\n",
    "annotations_file = f'{output_dir}/annotations.csv'\n",
    "\n",
    "annotations = []\n",
    "os.makedirs(output_dir, exist_ok=True)\n",
    "    \n",
    "for cls in os.listdir(source_dir):\n",
    "    print(f'Class: {cls}')\n",
    "    cls_name = cls.split('_')[-1]\n",
    "    \n",
    "    if cls_name == 'boat':\n",
    "        cls_name = 'ship'\n",
    "    elif cls_name == 'car':\n",
    "        cls_name = 'automobile'\n",
    "    elif cls_name == 'ship':\n",
    "        continue\n",
    "    \n",
    "    for file in os.listdir(f'./data/{source}/{cls}/{cls}'):\n",
    "        #print(file)\n",
    "        #continue\n",
    "        file_num = file.split('.')[0]\n",
    "        extension = file.split('.')[-1]\n",
    "        \n",
    "        if extension == 'jpg':\n",
    "            filename = f'{cls_name}_{file_num}.jpg'\n",
    "            \n",
    "            annotations.append([filename, cifar10.index(cls_name)])\n",
    "            #all_files.append(filename)\n",
    "            #all_targets.append(cifar10.index('cls_name'))\n",
    "            \n",
    "            shutil.copy(f'./data/{source}/{cls}/{cls}/{file}', f'{output_dir}/{filename}')\n",
    "\n",
    "with open(class_file, 'w') as csvfile:\n",
    "    # creating a csv writer object\n",
    "    csvwriter = csv.writer(csvfile)\n",
    "    \n",
    "    # writing the fields\n",
    "    csvwriter.writerow(cifar10)\n",
    "\n",
    "with open(annotations_file, 'w') as csvfile:\n",
    "    # creating a csv writer object\n",
    "    csvwriter = csv.writer(csvfile)\n",
    "\n",
    "    # writing the fields\n",
    "    csvwriter.writerow(['filename','target'])\n",
    "    \n",
    "    # writing the data rows\n",
    "    csvwriter.writerows(annotations)"
   ]
  },
  {
   "cell_type": "markdown",
   "id": "b2a35893-c965-47db-baf0-497460880eb7",
   "metadata": {},
   "source": [
    "**FashionMNIST (torchvision & paper)** \n",
    "- torchvision: [\"T-shirt/top\", \"Trouser\", \"Pullover\", \"Dress\", \"Coat\", \"Sandal\", \"Shirt\", \"Sneaker\", \"Bag\", \"Ankle boot\"]\n",
    "- paper: [\"T-shirt/top\", \"Trouser\", \"Pullover\", \"Dress\", \"Coat\", \"Sandal\", \"Shirt\", \"Sneaker\", \"Ankle boot\", \"Bag\"]  "
   ]
  },
  {
   "cell_type": "code",
   "execution_count": null,
   "id": "d6b7e00e-e666-4998-98d2-a34b6921f45c",
   "metadata": {},
   "outputs": [],
   "source": [
    "fashion = [\"T-shirt/top\", \"Trouser\", \"Pullover\", \"Dress\", \"Coat\", \"Sandal\", \"Shirt\", \"Sneaker\", \"Ankle boot\", \"Bag\"]"
   ]
  },
  {
   "cell_type": "code",
   "execution_count": null,
   "id": "e9516a35-e17a-4fad-ac7c-3b28656820ac",
   "metadata": {},
   "outputs": [],
   "source": [
    "source_dir = './data/FashionMNIST' \n",
    "output_dir = './datasets/g_fashionmnist'\n",
    "\n",
    "class_file = f'{output_dir}/classes.csv'\n",
    "annotations_file = f'{output_dir}/annotations.csv'\n",
    "\n",
    "annotations = []\n",
    "os.makedirs(output_dir, exist_ok=True)\n",
    "    \n",
    "for cls in os.listdir(source_dir'):\n",
    "    print(f'Class: {cls}')\n",
    "    cls_name = cls.split('_')[-1]\n",
    "    \n",
    "    if cls_name == 'pants':\n",
    "        cls_name = 'trouser'\n",
    "    elif cls_name == 'jacket':\n",
    "        cls_name = 'pullover'\n",
    "    elif cls_name == 'handbag':\n",
    "        cls_name = 'bag'\n",
    "    elif cls_name == 't-shirt':\n",
    "        cls_name = 'tshirt'\n",
    "    elif cls_name == 'shoe':\n",
    "        cls_name = 'sneaker'\n",
    "    \n",
    "    for file in os.listdir(f'./data/{source}/{cls}/{cls}'):\n",
    "        file_num = file.split('.')[0]\n",
    "        extension = file.split('.')[-1]\n",
    "        \n",
    "        if extension == 'jpg':\n",
    "            filename = f'{cls_name}_{file_num}.jpg'\n",
    "            \n",
    "            if cls_name == 'tshirt':\n",
    "                annotations.append([filename, fashion.index('T-shirt/top')])\n",
    "            elif cls_name == 'boot':\n",
    "                annotations.append([filename, fashion.index('Ankle boot')])\n",
    "            else:\n",
    "                annotations.append([filename, fashion.index(cls_name.capitalize())])\n",
    "            \n",
    "            shutil.copy(f'./data/{source}/{cls}/{cls}/{file}', f'{output_dir}/{filename}')\n",
    "\n",
    "with open(class_file, 'w') as csvfile:\n",
    "    # creating a csv writer object\n",
    "    csvwriter = csv.writer(csvfile)\n",
    "    \n",
    "    # writing the fields\n",
    "    csvwriter.writerow(fashion)\n",
    "\n",
    "with open(annotations_file, 'w') as csvfile:\n",
    "    # creating a csv writer object\n",
    "    csvwriter = csv.writer(csvfile)\n",
    "\n",
    "    # writing the fields\n",
    "    csvwriter.writerow(['filename','target'])\n",
    "    \n",
    "    # writing the data rows\n",
    "    csvwriter.writerows(annotations)"
   ]
  }
 ],
 "metadata": {
  "kernelspec": {
   "display_name": "cs394n",
   "language": "python",
   "name": "cs394n"
  },
  "language_info": {
   "codemirror_mode": {
    "name": "ipython",
    "version": 3
   },
   "file_extension": ".py",
   "mimetype": "text/x-python",
   "name": "python",
   "nbconvert_exporter": "python",
   "pygments_lexer": "ipython3",
   "version": "3.9.15"
  }
 },
 "nbformat": 4,
 "nbformat_minor": 5
}
