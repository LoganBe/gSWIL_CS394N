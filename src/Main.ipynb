{
 "cells": [
  {
   "cell_type": "code",
   "execution_count": 7,
   "id": "be1a94de-ed66-4b48-a600-9634eea3984f",
   "metadata": {},
   "outputs": [],
   "source": [
    "import torch\n",
    "import torchvision\n",
    "import torchvision.transforms as transforms\n",
    "import torch.optim as optim\n",
    "\n",
    "import matplotlib.pyplot as plt\n",
    "import numpy as np\n",
    "\n",
    "from utils.nets import *"
   ]
  },
  {
   "cell_type": "code",
   "execution_count": 2,
   "id": "e4e794b7-8d3e-46d5-b629-4dd9ac25d12c",
   "metadata": {},
   "outputs": [],
   "source": [
    "# Constants\n",
    "\n",
    "LEARNING_RATE = 0.001\n",
    "EXP_DECAY = 0.0001\n",
    "\n",
    "batch_size = 4\n",
    "cifar10_momentum = 0.9\n",
    "\n",
    "# Files\n",
    "CIFAR10_model_file = \"./logs/cifar_10_cnn.pt\"\n",
    "VGG11_model_file = \"./logs/vgg11.pt\"\n",
    "VGG19_model_file = \"./logs/vgg19.pt\""
   ]
  },
  {
   "cell_type": "code",
   "execution_count": 3,
   "id": "b952f719-964a-4e81-9d3e-67c079837e93",
   "metadata": {},
   "outputs": [],
   "source": [
    "transform = transforms.Compose(\n",
    "    [transforms.ToTensor(),\n",
    "     transforms.Normalize((0.5, 0.5, 0.5), (0.5, 0.5, 0.5))])"
   ]
  },
  {
   "cell_type": "code",
   "execution_count": 4,
   "id": "443c2a32-0c12-408f-aca1-341c5065b591",
   "metadata": {},
   "outputs": [
    {
     "name": "stdout",
     "output_type": "stream",
     "text": [
      "Files already downloaded and verified\n",
      "Files already downloaded and verified\n"
     ]
    }
   ],
   "source": [
    "CIFAR10_trainset = torchvision.datasets.CIFAR10(root='./data', train=True,\n",
    "                                        download=True, transform=transform)\n",
    "CIFAR10_trainloader = torch.utils.data.DataLoader(CIFAR10_trainset, batch_size=batch_size,\n",
    "                                          shuffle=True, num_workers=2)\n",
    "\n",
    "CIFAR10_testset = torchvision.datasets.CIFAR10(root='./data', train=False,\n",
    "                                       download=True, transform=transform)\n",
    "CIFAR10_testloader = torch.utils.data.DataLoader(CIFAR10_testset, batch_size=batch_size,\n",
    "                                         shuffle=False, num_workers=2)\n",
    "\n",
    "CIFAR10_classes = ('plane', 'car', 'bird', 'cat',\n",
    "           'deer', 'dog', 'frog', 'horse', 'ship', 'truck')\n",
    "\n",
    "CIFAR10_cnn = CIFAR10Cnn(8)"
   ]
  },
  {
   "cell_type": "code",
   "execution_count": 5,
   "id": "c183416a-b176-4573-a45e-371159387c60",
   "metadata": {},
   "outputs": [],
   "source": [
    "vgg11 = torchvision.models.vgg11(progress=True)\n",
    "vgg19 = torchvision.models.vgg19(progress=True)"
   ]
  },
  {
   "cell_type": "code",
   "execution_count": 9,
   "id": "d3d5f106-3ad1-4e3c-9f8f-7f38843b2a8c",
   "metadata": {},
   "outputs": [
    {
     "data": {
      "image/png": "[encoded data removed]",
      "text/plain": [
       "<Figure size 640x480 with 1 Axes>"
      ]
     },
     "metadata": {},
     "output_type": "display_data"
    },
    {
     "name": "stdout",
     "output_type": "stream",
     "text": [
      "plane cat   cat   horse\n"
     ]
    }
   ],
   "source": [
    "# Numpy function to show images for verification\n",
    "\n",
    "def imshow(img):\n",
    "    img = img / 2 + 0.5     # unnormalize\n",
    "    npimg = img.numpy()\n",
    "    plt.imshow(np.transpose(npimg, (1, 2, 0)))\n",
    "    plt.show()\n",
    "\n",
    "\n",
    "# get some random training images\n",
    "dataiter = iter(CIFAR10_trainloader)\n",
    "images, labels = next(dataiter)\n",
    "\n",
    "# show images\n",
    "imshow(torchvision.utils.make_grid(images))\n",
    "# print labels\n",
    "print(' '.join(f'{CIFAR10_classes[labels[j]]:5s}' for j in range(batch_size)))\n"
   ]
  },
  {
   "cell_type": "code",
   "execution_count": 11,
   "id": "109eefd5-0340-4269-8b75-6032782dccd6",
   "metadata": {},
   "outputs": [],
   "source": [
    "criterion = nn.CrossEntropyLoss()\n",
    "CIFAR10_optimizer = optim.SGD(CIFAR10_cnn.parameters(), lr=LEARNING_RATE, momentum=cifar10_momentum)\n"
   ]
  },
  {
   "cell_type": "code",
   "execution_count": null,
   "id": "4800298e-cefb-47c0-a168-577fbeb83d71",
   "metadata": {},
   "outputs": [],
   "source": []
  }
 ],
 "metadata": {
  "kernelspec": {
   "display_name": "Python 3 (ipykernel)",
   "language": "python",
   "name": "python3"
  },
  "language_info": {
   "codemirror_mode": {
    "name": "ipython",
    "version": 3
   },
   "file_extension": ".py",
   "mimetype": "text/x-python",
   "name": "python",
   "nbconvert_exporter": "python",
   "pygments_lexer": "ipython3",
   "version": "3.10.6"
  }
 },
 "nbformat": 4,
 "nbformat_minor": 5
}
