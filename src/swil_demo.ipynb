{
 "cells": [
  {
   "cell_type": "code",
   "execution_count": 10,
   "id": "4f58bb2d-dc5d-4713-8619-3f47dcf017e5",
   "metadata": {},
   "outputs": [],
   "source": [
    "import torch\n",
    "import matplotlib.pyplot as plt\n",
    "import numpy as np\n",
    "\n",
    "from torch.utils.data import DataLoader\n",
    "\n",
    "from torchvision import transforms\n",
    "from torchvision.datasets import CIFAR10, FashionMNIST\n",
    "\n",
    "from tqdm.autonotebook import tqdm, trange\n",
    "\n",
    "from utils.nets import *\n",
    "from utils.model_tools import train, test, add_output_nodes\n",
    "from utils.dataset_tools import split_training_data"
   ]
  },
  {
   "cell_type": "code",
   "execution_count": null,
   "id": "906696b9-a616-41ee-a61e-0c7384c109da",
   "metadata": {},
   "outputs": [],
   "source": [
    "# Get cpu or gpu device for training.\n",
    "device = \"cuda\" if torch.cuda.is_available() else \"cpu\"\n",
    "print(f\"Using {device} device\")"
   ]
  },
  {
   "cell_type": "code",
   "execution_count": 8,
   "id": "5186ff7d-126d-4f2d-93e8-7f57b5375305",
   "metadata": {},
   "outputs": [],
   "source": [
    "model_selection = 'linear' # linear | cnn | vgg\n",
    "dataset_selection = 'fashionmnist' # cifar10 | fashionmnist\n",
    "holdout_classes = [8, 9]\n",
    "new_class = 8\n",
    "ckpt_file = './weights/linear_fashionmnist_holdout_[8, 9].pt'\n",
    "batch_size = 32"
   ]
  },
  {
   "cell_type": "markdown",
   "id": "d58ac2e4-6c4e-4ed6-9259-e6e4cec8231d",
   "metadata": {},
   "source": [
    "#### Hyperparameters"
   ]
  },
  {
   "cell_type": "code",
   "execution_count": null,
   "id": "9edbc22b-260d-4063-a831-2ef8dbe0aded",
   "metadata": {},
   "outputs": [],
   "source": [
    "num_epochs = 15\n",
    "\n",
    "initial_learning_rate = 0.001\n",
    "final_learning_rate = 0.0001\n",
    "\n",
    "# initial_lr * decay_rate^num_epochs = final_lr\n",
    "decay_rate = (final_learning_rate/initial_learning_rate)**(1/num_epochs)\n",
    "\n",
    "loss_fn = torch.nn.CrossEntropyLoss()\n",
    "optimizer = torch.optim.Adam(model.parameters(), lr=initial_learning_rate)\n",
    "lr_scheduler = torch.optim.lr_scheduler.ExponentialLR(optimizer=optimizer, gamma=decay_rate)"
   ]
  },
  {
   "cell_type": "markdown",
   "id": "c3b7102a-5149-4ae9-9785-c3ac60aeb8f7",
   "metadata": {
    "tags": []
   },
   "source": [
    "# Data Preparation"
   ]
  },
  {
   "cell_type": "code",
   "execution_count": 3,
   "id": "ec55e773-5c48-42c4-a5ac-f27d123aa3ba",
   "metadata": {},
   "outputs": [],
   "source": [
    "if dataset_selection == 'fashionmnist':\n",
    "    transform = transforms.Compose([\n",
    "        transforms.ToTensor(),\n",
    "        transforms.Normalize((0.5), (0.5)),]) # Images are grayscale -> 1 channel\n",
    "else:\n",
    "    transform = transforms.Compose([\n",
    "        transforms.ToTensor(),\n",
    "        transforms.Normalize((0.5, 0.5, 0.5), (0.5, 0.5, 0.5))])"
   ]
  },
  {
   "cell_type": "code",
   "execution_count": 4,
   "id": "542addba-1c68-4864-ad0a-925f2d4c1bf3",
   "metadata": {},
   "outputs": [],
   "source": [
    "if dataset_selection == 'cifar10':\n",
    "    train_data = CIFAR10(root='./data', train=True, download=True, transform=transform)\n",
    "    test_data = CIFAR10(root='./data', train=False, download=True, transform=transform)\n",
    "elif dataset_selection == 'fashionmnist':\n",
    "    train_data = FashionMNIST(root='./data', train=True, download=True, transform=transform)\n",
    "    test_data = FashionMNIST(root='./data', train=False, download=True, transform=transform)"
   ]
  },
  {
   "cell_type": "code",
   "execution_count": 5,
   "id": "c6ef117b-f6d5-4ab1-85a4-7f9b7071fff0",
   "metadata": {},
   "outputs": [],
   "source": [
    "total_classes = len(torch.unique(train_data.targets))"
   ]
  },
  {
   "cell_type": "markdown",
   "id": "d17ef9aa-020c-4590-8041-11e99be77fc5",
   "metadata": {
    "jp-MarkdownHeadingCollapsed": true,
    "tags": []
   },
   "source": [
    "## FOL"
   ]
  },
  {
   "cell_type": "code",
   "execution_count": 11,
   "id": "6b6b8f11-e3c8-4d81-af9c-5ca74f31c5aa",
   "metadata": {},
   "outputs": [
    {
     "name": "stdout",
     "output_type": "stream",
     "text": [
      "input_size 784\n",
      "num_outputs 9\n"
     ]
    }
   ],
   "source": [
    "if model_selection == 'linear':\n",
    "    fol_model = add_output_nodes(ckpt_file, arch='linear')\n",
    "    fol_model.input_layer.requires_grad_(False)\n",
    "elif model_selection == 'cnn-demo':\n",
    "    fol_model = add_output_nodes(ckpt_file, arch='cnn-demo')\n",
    "    fol_model.conv1.requires_grad_(False)\n",
    "    fol_model.conv2.requires_grad_(False)\n",
    "    fol_model.fc1.requires_grad_(False)\n",
    "    \n",
    "fol_model = fol_model.to(device)"
   ]
  },
  {
   "cell_type": "code",
   "execution_count": null,
   "id": "be09c870-bc2d-4b93-b6b3-6dc42ecb1598",
   "metadata": {},
   "outputs": [],
   "source": [
    "fol_optimizer = torch.optim.Adam(fol_model.parameters(), lr=initial_learning_rate)\n",
    "fol_lr_scheduler = torch.optim.lr_scheduler.ExponentialLR(optimizer=fol_optimizer, gamma=decay_rate)"
   ]
  },
  {
   "cell_type": "code",
   "execution_count": null,
   "id": "6419b495-0901-4e7f-8de9-00d0df864ed3",
   "metadata": {},
   "outputs": [],
   "source": [
    "included_data, excluded_data = split_training_data(train_data, [8]) \n",
    "train_fol_loader = DataLoader(excluded_data, batch_size=batch_size, shuffle=True, num_workers=2)\n",
    "\n",
    "included_data, excluded_data = split_training_data(test_data, [8])\n",
    "test_fol_loader = DataLoader(excluded_data, batch_size=batch_size, shuffle=True, num_workers=2)"
   ]
  },
  {
   "cell_type": "markdown",
   "id": "4f2f33e4-480c-44f0-aea7-0655441cefaa",
   "metadata": {},
   "source": [
    "### Training Loop"
   ]
  },
  {
   "cell_type": "code",
   "execution_count": null,
   "id": "0c4dd414-861b-4d1b-bbf9-b012dae09887",
   "metadata": {},
   "outputs": [],
   "source": [
    "train_losses = []\n",
    "test_losses = []\n",
    "#t = trange(num_epochs)\n",
    "t = range(num_epochs)\n",
    "\n",
    "for epoch in t:\n",
    "    print(f\"Epoch {epoch+1}\\n-------------------------------\")\n",
    "    train_loss = train(train_fol_loader, fol_model, loss_fn, fol_optimizer, device)\n",
    "    test_loss = test(test_fol_loader, fol_model, loss_fn, device)\n",
    "    train_losses.append(train_loss)\n",
    "    test_losses.append(test_loss)\n",
    "    \n",
    "    fol_lr_scheduler.step()\n",
    "    \n",
    "#torch.save(model.state_dict(), model_file)\n",
    "print(\"Done!\")"
   ]
  },
  {
   "cell_type": "markdown",
   "id": "33948a56-6ae4-449b-a87b-8163a91a2a07",
   "metadata": {
    "jp-MarkdownHeadingCollapsed": true,
    "tags": []
   },
   "source": [
    "## SWIL"
   ]
  },
  {
   "cell_type": "code",
   "execution_count": 11,
   "id": "b6b141d0-6e4c-410d-8ca0-1c46a856748f",
   "metadata": {},
   "outputs": [
    {
     "name": "stdout",
     "output_type": "stream",
     "text": [
      "input_size 784\n",
      "num_outputs 9\n"
     ]
    }
   ],
   "source": [
    "if model_selection == 'linear':\n",
    "    swil_model = add_output_nodes(ckpt_file, arch='linear')\n",
    "    swil_model.input_layer.requires_grad_(False)\n",
    "elif model_selection == 'cnn-demo':\n",
    "    swil_model = add_output_nodes(ckpt_file, arch='cnn-demo')\n",
    "    swil_model.conv1.requires_grad_(False)\n",
    "    swil_model.conv2.requires_grad_(False)\n",
    "    swil_model.fc1.requires_grad_(False)\n",
    "    \n",
    "swil_model = swil_model.to(device)"
   ]
  },
  {
   "cell_type": "code",
   "execution_count": null,
   "id": "e20e68f9-bec2-4f36-86d0-6c9847eab824",
   "metadata": {},
   "outputs": [],
   "source": [
    "optimizer = torch.optim.Adam(swil_model.parameters(), lr=initial_learning_rate)\n",
    "lr_scheduler = torch.optim.lr_scheduler.ExponentialLR(optimizer=optimizer, gamma=decay_rate)"
   ]
  },
  {
   "cell_type": "markdown",
   "id": "be5ca4a3-bf15-40f5-bd83-59ddf0c2e31e",
   "metadata": {},
   "source": [
    "### Training Loop"
   ]
  },
  {
   "cell_type": "code",
   "execution_count": null,
   "id": "e0223e81-5399-485e-8010-01765d8c9d31",
   "metadata": {},
   "outputs": [],
   "source": [
    "train_losses = []\n",
    "test_losses = []\n",
    "#t = trange(num_epochs)\n",
    "t = range(num_epochs)\n",
    "\n",
    "for epoch in t:\n",
    "    print(f\"Epoch {epoch+1}\\n-------------------------------\")\n",
    "    train_loss = train(train_inc_loader, model, loss_fn, optimizer, device)\n",
    "    test_loss = test(test_inc_loader, model, loss_fn, device)\n",
    "    train_losses.append(train_loss)\n",
    "    test_losses.append(test_loss)\n",
    "    \n",
    "    #t.set_description(f\"Epoch {epoch} train loss: {epoch_loss_train[-1]:.3f}\")\n",
    "    lr_scheduler.step()\n",
    "    \n",
    "torch.save(model.state_dict(), model_file)\n",
    "print(\"Done!\")"
   ]
  },
  {
   "cell_type": "markdown",
   "id": "83e63096-ece6-4fbd-ae03-3eb17d45d9de",
   "metadata": {
    "jp-MarkdownHeadingCollapsed": true,
    "tags": []
   },
   "source": [
    "## G-SWIL"
   ]
  },
  {
   "cell_type": "code",
   "execution_count": 11,
   "id": "99a6967c-e73b-4e94-a312-39e04b7a82dd",
   "metadata": {},
   "outputs": [
    {
     "name": "stdout",
     "output_type": "stream",
     "text": [
      "input_size 784\n",
      "num_outputs 9\n"
     ]
    }
   ],
   "source": [
    "if model_selection == 'linear':\n",
    "    gswil_model = add_output_nodes(ckpt_file, arch='linear')\n",
    "    gswil_model.input_layer.requires_grad_(False)\n",
    "elif model_selection == 'cnn-demo':\n",
    "    gswil_model = add_output_nodes(ckpt_file, arch='cnn-demo')\n",
    "    gswil_model.conv1.requires_grad_(False)\n",
    "    gswil_model.conv2.requires_grad_(False)\n",
    "    gswil_model.fc1.requires_grad_(False)\n",
    "    \n",
    "gswil_model = gswil_model.to(device)"
   ]
  },
  {
   "cell_type": "code",
   "execution_count": null,
   "id": "c2c9ce9e-6f84-45ec-b13b-e6455a450a4f",
   "metadata": {},
   "outputs": [],
   "source": [
    "optimizer = torch.optim.Adam(gswil_model.parameters(), lr=initial_learning_rate)\n",
    "lr_scheduler = torch.optim.lr_scheduler.ExponentialLR(optimizer=optimizer, gamma=decay_rate)"
   ]
  },
  {
   "cell_type": "markdown",
   "id": "53aa4641-f7b3-4296-b94d-835323cc99f3",
   "metadata": {},
   "source": [
    "### Training Loop"
   ]
  },
  {
   "cell_type": "code",
   "execution_count": null,
   "id": "33ca83a9-a427-41c2-ae3a-5769101c1fb4",
   "metadata": {},
   "outputs": [],
   "source": [
    "train_losses = []\n",
    "test_losses = []\n",
    "#t = trange(num_epochs)\n",
    "t = range(num_epochs)\n",
    "\n",
    "for epoch in t:\n",
    "    print(f\"Epoch {epoch+1}\\n-------------------------------\")\n",
    "    train_loss = train(train_inc_loader, model, loss_fn, optimizer, device)\n",
    "    test_loss = test(test_inc_loader, model, loss_fn, device)\n",
    "    train_losses.append(train_loss)\n",
    "    test_losses.append(test_loss)\n",
    "    \n",
    "    #t.set_description(f\"Epoch {epoch} train loss: {epoch_loss_train[-1]:.3f}\")\n",
    "    lr_scheduler.step()\n",
    "    \n",
    "torch.save(model.state_dict(), model_file)\n",
    "print(\"Done!\")"
   ]
  }
 ],
 "metadata": {
  "kernelspec": {
   "display_name": "cs394n",
   "language": "python",
   "name": "cs394n"
  },
  "language_info": {
   "codemirror_mode": {
    "name": "ipython",
    "version": 3
   },
   "file_extension": ".py",
   "mimetype": "text/x-python",
   "name": "python",
   "nbconvert_exporter": "python",
   "pygments_lexer": "ipython3",
   "version": "3.9.15"
  }
 },
 "nbformat": 4,
 "nbformat_minor": 5
}
