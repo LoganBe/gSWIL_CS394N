{
 "cells": [
  {
   "cell_type": "code",
   "execution_count": null,
   "id": "c59adca9-0638-48a1-b5e6-628e30a75e86",
   "metadata": {},
   "outputs": [],
   "source": []
  }
 ],
 "metadata": {
  "kernelspec": {
   "display_name": "cs394n",
   "language": "python",
   "name": "cs394n"
  },
  "language_info": {
   "codemirror_mode": {
    "name": "ipython",
    "version": 3
   },
   "file_extension": ".py",
   "mimetype": "text/x-python",
   "name": "python",
   "nbconvert_exporter": "python",
   "pygments_lexer": "ipython3",
   "version": "3.9.15"
  }
 },
 "nbformat": 4,
 "nbformat_minor": 5
}
